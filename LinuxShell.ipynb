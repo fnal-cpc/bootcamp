{
  "nbformat": 4,
  "nbformat_minor": 0,
  "metadata": {
    "colab": {
      "name": "LinuxShell.ipynb",
      "provenance": []
    },
    "kernelspec": {
      "name": "python3",
      "display_name": "Python 3"
    }
  },
  "cells": [
    {
      "cell_type": "markdown",
      "metadata": {
        "id": "G8oDhnsYmzKW",
        "colab_type": "text"
      },
      "source": [
        "# Introduction to Linux/Shell\n",
        "\n",
        "Welcome to the [Fermilab Cosmic Physics Center]()! This tutorial is intended to give you a brief, hands-on introduction to the Linux operating system and the command line shell. The goal is to give you a \"view from 10,000ft\", a first interaction with the shell, and a chance to explore and ask questions.\n",
        "\n",
        "\n"
      ]
    },
    {
      "cell_type": "markdown",
      "metadata": {
        "id": "uDBTPJSCo1Fc",
        "colab_type": "text"
      },
      "source": [
        "Most scientific computing these days is performed on some flavor of the Linux operating system (OS). Unlike Windows or Mac OS X, there are many \"flavors\" of the Linux operating system. Over the past few years, the barrier to Linux has be significantly lowered by the popularization of user-oriented Linux operating systems such as [Ubuntu](). Fermilab computers run Scientific Linux which is a rebuild of Red Hat Enterprise Linux. There are various Linux and command line tutorials spread accross the web. Here are a few that caught my eye:\n",
        "\n",
        "* [Introduction to Unix from University of Surrey](http://www.ee.surrey.ac.uk/Teaching/Unix/)\n",
        "* [Introduction to the Linux Shell](http://linuxcommand.org/index.php)\n",
        "* [Command-line Tutorial from Code Academy](https://www.codecademy.com/learn/learn-the-command-line)\n",
        "\n",
        "While these tutorials may be a good place to start, Google is the single most important resource when learning Linux (and programming in general). A close second is the Stack Overflow user forum. However, it can be difficult to find the answer to a question that you don't know how to ask. If that is the case, find a person to ask!"
      ]
    },
    {
      "cell_type": "markdown",
      "metadata": {
        "id": "3F-J8AgdRUdD",
        "colab_type": "text"
      },
      "source": [
        "Google Colab does not give a native interface to the terminal/shell, so we are going to use a [hack](https://en.wikipedia.org/wiki/Hacker) that was suggested on [Stack Overflow](https://stackoverflow.com/a/59318693/4075339). This brings us to the boot camp:\n",
        "\n",
        "1. Stack Overflow is your friend.\n",
        "\n",
        "Execute the code below to create an instance of a Google Colab shell. On your local machine, you can usually find a terminal application."
      ]
    },
    {
      "cell_type": "code",
      "metadata": {
        "id": "i3ARjTrnjkGS",
        "colab_type": "code",
        "colab": {}
      },
      "source": [
        "# You do not need to understand what is happening here!\n",
        "# You may understand some of this better by the end of today.\n",
        "from IPython.display import JSON\n",
        "from google.colab import output\n",
        "from subprocess import getoutput\n",
        "import os\n",
        "\n",
        "def shell(command):\n",
        "  if command.startswith('cd'):\n",
        "    path = command.strip().split(maxsplit=1)[1]\n",
        "    if path == '~': path = '${HOME}'\n",
        "    if path == '-': path = '$(pwd)'\n",
        "    os.chdir(path)\n",
        "    return JSON([''])\n",
        "  return JSON([getoutput(command)])\n",
        "output.register_callback('shell', shell)"
      ],
      "execution_count": 0,
      "outputs": []
    },
    {
      "cell_type": "code",
      "metadata": {
        "id": "tsM2l1JhWW7N",
        "colab_type": "code",
        "colab": {
          "base_uri": "https://localhost:8080/",
          "height": 267
        },
        "cellView": "form",
        "outputId": "487acb1f-d4c8-49f5-e7a3-60ab1d096347"
      },
      "source": [
        "#@title Colab Shell\n",
        "%%html\n",
        "<div id=term_demo></div>\n",
        "<script src=\"https://code.jquery.com/jquery-latest.js\"></script>\n",
        "<script src=\"https://cdn.jsdelivr.net/npm/jquery.terminal/js/jquery.terminal.min.js\"></script>\n",
        "<link href=\"https://cdn.jsdelivr.net/npm/jquery.terminal/css/jquery.terminal.min.css\" rel=\"stylesheet\"/>\n",
        "<script>\n",
        "  $('#term_demo').terminal(async function(command) {\n",
        "      if (command !== '') {\n",
        "          try {\n",
        "              let res = await google.colab.kernel.invokeFunction('shell', [command])\n",
        "              let out = res.data['application/json'][0]\n",
        "              this.echo(new String(out))\n",
        "          } catch(e) {\n",
        "              this.error(new String(e));\n",
        "          }\n",
        "      } else {\n",
        "          this.echo('');\n",
        "      }\n",
        "  }, {\n",
        "      greetings: 'Welcome to Colab Shell',\n",
        "      name: 'colab_demo',\n",
        "      height: 250,\n",
        "      prompt: 'colab > '\n",
        "  });"
      ],
      "execution_count": 1,
      "outputs": [
        {
          "output_type": "display_data",
          "data": {
            "text/html": [
              "<div id=term_demo></div>\n",
              "<script src=\"https://code.jquery.com/jquery-latest.js\"></script>\n",
              "<script src=\"https://cdn.jsdelivr.net/npm/jquery.terminal/js/jquery.terminal.min.js\"></script>\n",
              "<link href=\"https://cdn.jsdelivr.net/npm/jquery.terminal/css/jquery.terminal.min.css\" rel=\"stylesheet\"/>\n",
              "<script>\n",
              "  $('#term_demo').terminal(async function(command) {\n",
              "      if (command !== '') {\n",
              "          try {\n",
              "              let res = await google.colab.kernel.invokeFunction('shell', [command])\n",
              "              let out = res.data['application/json'][0]\n",
              "              this.echo(new String(out))\n",
              "          } catch(e) {\n",
              "              this.error(new String(e));\n",
              "          }\n",
              "      } else {\n",
              "          this.echo('');\n",
              "      }\n",
              "  }, {\n",
              "      greetings: 'Welcome to Colab Shell',\n",
              "      name: 'colab_demo',\n",
              "      height: 250,\n",
              "      prompt: 'colab > '\n",
              "  });"
            ],
            "text/plain": [
              "<IPython.core.display.HTML object>"
            ]
          },
          "metadata": {
            "tags": []
          }
        }
      ]
    },
    {
      "cell_type": "markdown",
      "metadata": {
        "id": "mEl5reZ8VqMc",
        "colab_type": "text"
      },
      "source": [
        ""
      ]
    },
    {
      "cell_type": "markdown",
      "metadata": {
        "id": "QMpnNAh3S0hM",
        "colab_type": "text"
      },
      "source": [
        "Basic File System Operations:\n",
        "* Filesystem navigation: `ls`, `cd` and `pwd`\n",
        "* Directory structures: `mkdir`\n",
        "* Environment variables: `env` and `export`\n",
        "* The shell itself: `bash`, `csh`, `zsh` \n",
        "* Arithmetic: `$((...))` but don't use the shell!\n",
        "* Files: `touch`, `mv`, `cat`\n",
        "* Processes: `top` and `ps`\n"
      ]
    },
    {
      "cell_type": "markdown",
      "metadata": {
        "id": "eDeT2rYEYN-o",
        "colab_type": "text"
      },
      "source": [
        "Shell Scripting\n",
        "\n",
        "* Text editors: `gedit`, `nano`, `vim`, `emacs`, and whatever we will use...\n",
        "* Creating a file: `touch`\n",
        "* Writing a script.\n",
        "* Executing a script: `bash` and `source`\n",
        "* File permissions: `chmod` `group`\n"
      ]
    },
    {
      "cell_type": "markdown",
      "metadata": {
        "id": "8hikjmDuaAPW",
        "colab_type": "text"
      },
      "source": [
        "More complex coding:\n",
        "* Compiled code\n",
        "* Executables\n",
        "* Libraries and linkage\n",
        "\n",
        "\n",
        "```\n",
        "// Your First C++ Program\n",
        "#include <iostream>\n",
        "\n",
        "int main() {\n",
        "    std::cout << \"Hello World!\";\n",
        "    return 0;\n",
        "}\n",
        "```\n"
      ]
    }
  ]
}