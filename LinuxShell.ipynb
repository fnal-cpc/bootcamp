{
  "nbformat": 4,
  "nbformat_minor": 0,
  "metadata": {
    "colab": {
      "name": "LinuxShell.ipynb",
      "provenance": [],
      "collapsed_sections": [],
      "toc_visible": true,
      "include_colab_link": true
    },
    "kernelspec": {
      "name": "python3",
      "display_name": "Python 3"
    }
  },
  "cells": [
    {
      "cell_type": "markdown",
      "metadata": {
        "id": "view-in-github",
        "colab_type": "text"
      },
      "source": [
        "<a href=\"https://colab.research.google.com/github/fnal-cpc/bootcamp/blob/master/LinuxShell.ipynb\" target=\"_parent\"><img src=\"https://colab.research.google.com/assets/colab-badge.svg\" alt=\"Open In Colab\"/></a>"
      ]
    },
    {
      "cell_type": "markdown",
      "metadata": {
        "id": "G8oDhnsYmzKW",
        "colab_type": "text"
      },
      "source": [
        "# Introduction to Linux/Shell\n",
        "\n",
        "Welcome to the [Fermilab Cosmic Physics Center]()! This tutorial is intended to give you a brief, hands-on introduction to the Linux operating system and the command line shell. The goal is to give you a \"view from 10,000ft\", a first interaction with the shell, and a chance to explore and ask questions. Note that we are using Google Colab due to the minimal overhead. However, this leads to some slightly odd features.\n",
        "\n",
        "\n"
      ]
    },
    {
      "cell_type": "markdown",
      "metadata": {
        "id": "uDBTPJSCo1Fc",
        "colab_type": "text"
      },
      "source": [
        "Most scientific computing these days is performed on some flavor of the Linux operating system (OS). Unlike Windows or Mac OS X, Linux is \"open source\" code, which means that the code is available for reuse and modification (there are many, many nuiances here that are being swept under the rug). This means that there are many \"flavors\" of the Linux operating system, and you do not always get a choice about which you are using. Over the past few years, the barrier to using Linux has be significantly lowered by the popularization of user-oriented Linux operating systems such as [Ubuntu](https://ubuntu.com/). Ubuntu is probably the OS that you would install on a personal machine. In contrast, most Fermilab computers run [Scientific Linux](https://www.scientificlinux.org/) which is a rebuild of Red Hat Enterprise Linux. In general, most of what you learn on one Linux OS is generally transferrable to another. \n",
        "\n",
        "There are various Linux and command line tutorials spread accross the web. Here are a few that caught my eye:\n",
        "\n",
        "* [Introduction to Unix from University of Surrey](http://www.ee.surrey.ac.uk/Teaching/Unix/)\n",
        "* [Introduction to the Linux Shell](http://linuxcommand.org/index.php)\n",
        "* [Command-line Tutorial from Code Academy](https://www.codecademy.com/learn/learn-the-command-line)\n",
        "\n",
        "While these tutorials may be a good place to start, Google is the single most important resource when learning Linux (and programming in general). A close second is the Stack Overflow user forum. \n",
        "\n",
        "This brings us to first rule of the boot camp:\n",
        "\n",
        "**1. Stack Overflow is your friend.**\n",
        "\n",
        "However, it can be difficult to find the answer to a question that you don't know how to ask. If that is the case, find a person!"
      ]
    },
    {
      "cell_type": "markdown",
      "metadata": {
        "id": "3F-J8AgdRUdD",
        "colab_type": "text"
      },
      "source": [
        "Google Colab does not give a native interface to the terminal/shell, so we are going to use a [hack](https://en.wikipedia.org/wiki/Hacker) that was suggested on [Stack Overflow](https://stackoverflow.com/a/59318693/4075339). \n",
        "\n",
        "The code below is needed to create an instance of a Google Colab shell. Press \"Shift+Enter\" to execute that cell. On your local machine, you would usually just open a terminal application and this would be unnecessary (caveate that Windows is more complicated)."
      ]
    },
    {
      "cell_type": "code",
      "metadata": {
        "id": "i3ARjTrnjkGS",
        "colab_type": "code",
        "colab": {}
      },
      "source": [
        "# You do not need to understand what is happening here.\n",
        "# You may understand some of this better by the end of today.\n",
        "from IPython.display import JSON\n",
        "from google.colab import output\n",
        "from subprocess import getoutput\n",
        "import os\n",
        "\n",
        "def shell(command):\n",
        "  if command.startswith('cd'):\n",
        "    path = command.strip().split(maxsplit=1)[1]\n",
        "    if path == '~': path = '${HOME}'\n",
        "    if path == '-': path = '$(pwd)'\n",
        "    os.chdir(path)\n",
        "    return JSON([''])\n",
        "  return JSON([getoutput(command)])\n",
        "output.register_callback('shell', shell)"
      ],
      "execution_count": 0,
      "outputs": []
    },
    {
      "cell_type": "markdown",
      "metadata": {
        "id": "QMpnNAh3S0hM",
        "colab_type": "text"
      },
      "source": [
        "## Basic File System Operations:\n",
        "* Filesystem navigation: `ls`, `cd` and `pwd`\n",
        "* Directory structures: `mkdir` `rmdir` `rm`\n",
        "* Environment variables: `env` and `export`\n",
        "* The shell itself: `bash`, `csh`, `zsh` \n",
        "* Arithmetic: `$((...))` (but don't use the shell for this...)\n",
        "* Files: `touch`, `mv`, `cat`\n",
        "* Processes: `top` and `ps`"
      ]
    },
    {
      "cell_type": "code",
      "metadata": {
        "colab_type": "code",
        "cellView": "form",
        "outputId": "7ba883a1-7881-4590-d6d1-0af77ee175d5",
        "id": "UgTmD3ha4Vht",
        "colab": {
          "base_uri": "https://localhost:8080/",
          "height": 267
        }
      },
      "source": [
        "#@title Colab Shell\n",
        "%%html\n",
        "<div id=term_demo></div>\n",
        "<script src=\"https://code.jquery.com/jquery-latest.js\"></script>\n",
        "<script src=\"https://cdn.jsdelivr.net/npm/jquery.terminal/js/jquery.terminal.min.js\"></script>\n",
        "<link href=\"https://cdn.jsdelivr.net/npm/jquery.terminal/css/jquery.terminal.min.css\" rel=\"stylesheet\"/>\n",
        "<script>\n",
        "  $('#term_demo').terminal(async function(command) {\n",
        "      if (command !== '') {\n",
        "          try {\n",
        "              let res = await google.colab.kernel.invokeFunction('shell', [command])\n",
        "              let out = res.data['application/json'][0]\n",
        "              this.echo(new String(out))\n",
        "          } catch(e) {\n",
        "              this.error(new String(e));\n",
        "          }\n",
        "      } else {\n",
        "          this.echo('');\n",
        "      }\n",
        "  }, {\n",
        "      greetings: 'Welcome to Colab Shell',\n",
        "      name: 'colab_demo',\n",
        "      height: 250,\n",
        "      prompt: 'colab > '\n",
        "  });"
      ],
      "execution_count": 14,
      "outputs": [
        {
          "output_type": "display_data",
          "data": {
            "text/html": [
              "<div id=term_demo></div>\n",
              "<script src=\"https://code.jquery.com/jquery-latest.js\"></script>\n",
              "<script src=\"https://cdn.jsdelivr.net/npm/jquery.terminal/js/jquery.terminal.min.js\"></script>\n",
              "<link href=\"https://cdn.jsdelivr.net/npm/jquery.terminal/css/jquery.terminal.min.css\" rel=\"stylesheet\"/>\n",
              "<script>\n",
              "  $('#term_demo').terminal(async function(command) {\n",
              "      if (command !== '') {\n",
              "          try {\n",
              "              let res = await google.colab.kernel.invokeFunction('shell', [command])\n",
              "              let out = res.data['application/json'][0]\n",
              "              this.echo(new String(out))\n",
              "          } catch(e) {\n",
              "              this.error(new String(e));\n",
              "          }\n",
              "      } else {\n",
              "          this.echo('');\n",
              "      }\n",
              "  }, {\n",
              "      greetings: 'Welcome to Colab Shell',\n",
              "      name: 'colab_demo',\n",
              "      height: 250,\n",
              "      prompt: 'colab > '\n",
              "  });"
            ],
            "text/plain": [
              "<IPython.core.display.HTML object>"
            ]
          },
          "metadata": {
            "tags": []
          }
        }
      ]
    },
    {
      "cell_type": "markdown",
      "metadata": {
        "id": "eDeT2rYEYN-o",
        "colab_type": "text"
      },
      "source": [
        "Shell Scripting\n",
        "\n",
        "* Text editors: `gedit`, `nano`, `vim`, `emacs`, and whatever we will use...\n",
        "* Creating a file: `touch`\n",
        "* Writing a shelll script...\n",
        "* Executing a script: `bash` and `source`\n",
        "* File permissions: `chmod` `group`\n"
      ]
    },
    {
      "cell_type": "code",
      "metadata": {
        "colab_type": "code",
        "cellView": "form",
        "outputId": "1aae92a3-eb50-420a-cf4a-cd8a172e4ac3",
        "id": "w25uE3Wz4bOs",
        "colab": {
          "base_uri": "https://localhost:8080/",
          "height": 267
        }
      },
      "source": [
        "#@title Colab Shell\n",
        "%%html\n",
        "<div id=term_demo></div>\n",
        "<script src=\"https://code.jquery.com/jquery-latest.js\"></script>\n",
        "<script src=\"https://cdn.jsdelivr.net/npm/jquery.terminal/js/jquery.terminal.min.js\"></script>\n",
        "<link href=\"https://cdn.jsdelivr.net/npm/jquery.terminal/css/jquery.terminal.min.css\" rel=\"stylesheet\"/>\n",
        "<script>\n",
        "  $('#term_demo').terminal(async function(command) {\n",
        "      if (command !== '') {\n",
        "          try {\n",
        "              let res = await google.colab.kernel.invokeFunction('shell', [command])\n",
        "              let out = res.data['application/json'][0]\n",
        "              this.echo(new String(out))\n",
        "          } catch(e) {\n",
        "              this.error(new String(e));\n",
        "          }\n",
        "      } else {\n",
        "          this.echo('');\n",
        "      }\n",
        "  }, {\n",
        "      greetings: 'Welcome to Colab Shell',\n",
        "      name: 'colab_demo',\n",
        "      height: 250,\n",
        "      prompt: 'colab > '\n",
        "  });"
      ],
      "execution_count": 17,
      "outputs": [
        {
          "output_type": "display_data",
          "data": {
            "text/html": [
              "<div id=term_demo></div>\n",
              "<script src=\"https://code.jquery.com/jquery-latest.js\"></script>\n",
              "<script src=\"https://cdn.jsdelivr.net/npm/jquery.terminal/js/jquery.terminal.min.js\"></script>\n",
              "<link href=\"https://cdn.jsdelivr.net/npm/jquery.terminal/css/jquery.terminal.min.css\" rel=\"stylesheet\"/>\n",
              "<script>\n",
              "  $('#term_demo').terminal(async function(command) {\n",
              "      if (command !== '') {\n",
              "          try {\n",
              "              let res = await google.colab.kernel.invokeFunction('shell', [command])\n",
              "              let out = res.data['application/json'][0]\n",
              "              this.echo(new String(out))\n",
              "          } catch(e) {\n",
              "              this.error(new String(e));\n",
              "          }\n",
              "      } else {\n",
              "          this.echo('');\n",
              "      }\n",
              "  }, {\n",
              "      greetings: 'Welcome to Colab Shell',\n",
              "      name: 'colab_demo',\n",
              "      height: 250,\n",
              "      prompt: 'colab > '\n",
              "  });"
            ],
            "text/plain": [
              "<IPython.core.display.HTML object>"
            ]
          },
          "metadata": {
            "tags": []
          }
        }
      ]
    },
    {
      "cell_type": "markdown",
      "metadata": {
        "id": "8hikjmDuaAPW",
        "colab_type": "text"
      },
      "source": [
        "More complex coding:\n",
        "* Compiled code\n",
        "* Executables\n",
        "* Libraries and linkage\n",
        "\n",
        "\n",
        "```\n",
        "// Your First C++ Program\n",
        "#include <iostream>\n",
        "\n",
        "int main() {\n",
        "    std::cout << \"Hello World!\";\n",
        "    return 0;\n",
        "}\n",
        "```\n"
      ]
    },
    {
      "cell_type": "code",
      "metadata": {
        "colab_type": "code",
        "cellView": "form",
        "outputId": "e9b0d7a9-2f4a-4d4d-99c3-e15c6fef7a86",
        "id": "jtxka_484c8p",
        "colab": {
          "base_uri": "https://localhost:8080/",
          "height": 267
        }
      },
      "source": [
        "#@title Colab Shell\n",
        "%%html\n",
        "<div id=term_demo></div>\n",
        "<script src=\"https://code.jquery.com/jquery-latest.js\"></script>\n",
        "<script src=\"https://cdn.jsdelivr.net/npm/jquery.terminal/js/jquery.terminal.min.js\"></script>\n",
        "<link href=\"https://cdn.jsdelivr.net/npm/jquery.terminal/css/jquery.terminal.min.css\" rel=\"stylesheet\"/>\n",
        "<script>\n",
        "  $('#term_demo').terminal(async function(command) {\n",
        "      if (command !== '') {\n",
        "          try {\n",
        "              let res = await google.colab.kernel.invokeFunction('shell', [command])\n",
        "              let out = res.data['application/json'][0]\n",
        "              this.echo(new String(out))\n",
        "          } catch(e) {\n",
        "              this.error(new String(e));\n",
        "          }\n",
        "      } else {\n",
        "          this.echo('');\n",
        "      }\n",
        "  }, {\n",
        "      greetings: 'Welcome to Colab Shell',\n",
        "      name: 'colab_demo',\n",
        "      height: 250,\n",
        "      prompt: 'colab > '\n",
        "  });"
      ],
      "execution_count": 18,
      "outputs": [
        {
          "output_type": "display_data",
          "data": {
            "text/html": [
              "<div id=term_demo></div>\n",
              "<script src=\"https://code.jquery.com/jquery-latest.js\"></script>\n",
              "<script src=\"https://cdn.jsdelivr.net/npm/jquery.terminal/js/jquery.terminal.min.js\"></script>\n",
              "<link href=\"https://cdn.jsdelivr.net/npm/jquery.terminal/css/jquery.terminal.min.css\" rel=\"stylesheet\"/>\n",
              "<script>\n",
              "  $('#term_demo').terminal(async function(command) {\n",
              "      if (command !== '') {\n",
              "          try {\n",
              "              let res = await google.colab.kernel.invokeFunction('shell', [command])\n",
              "              let out = res.data['application/json'][0]\n",
              "              this.echo(new String(out))\n",
              "          } catch(e) {\n",
              "              this.error(new String(e));\n",
              "          }\n",
              "      } else {\n",
              "          this.echo('');\n",
              "      }\n",
              "  }, {\n",
              "      greetings: 'Welcome to Colab Shell',\n",
              "      name: 'colab_demo',\n",
              "      height: 250,\n",
              "      prompt: 'colab > '\n",
              "  });"
            ],
            "text/plain": [
              "<IPython.core.display.HTML object>"
            ]
          },
          "metadata": {
            "tags": []
          }
        }
      ]
    }
  ]
}
