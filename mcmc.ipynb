{
  "nbformat": 4,
  "nbformat_minor": 0,
  "metadata": {
    "kernelspec": {
      "display_name": "Python 2",
      "language": "python",
      "name": "python2"
    },
    "language_info": {
      "codemirror_mode": {
        "name": "ipython",
        "version": 2
      },
      "file_extension": ".py",
      "mimetype": "text/x-python",
      "name": "python",
      "nbconvert_exporter": "python",
      "pygments_lexer": "ipython2",
      "version": "2.7.12"
    },
    "colab": {
      "name": "Model Fitting in Python.ipynb",
      "provenance": [],
      "include_colab_link": true
    }
  },
  "cells": [
    {
      "cell_type": "markdown",
      "metadata": {
        "id": "view-in-github",
        "colab_type": "text"
      },
      "source": [
        "<a href=\"https://colab.research.google.com/github/fnal-cpc/bootcamp/blob/master/mcmc.ipynb\" target=\"_parent\"><img src=\"https://colab.research.google.com/assets/colab-badge.svg\" alt=\"Open In Colab\"/></a>"
      ]
    },
    {
      "cell_type": "markdown",
      "metadata": {
        "id": "6yHwqOO8q3M2",
        "colab_type": "text"
      },
      "source": [
        "# Model Fitting in Python with Scipy\n",
        "\n",
        "This is a tutorial on scientific Python largely taken from the [KIPAC computing boot camp](http://kipac.github.io/BootCamp) and updated for the CPC Bootcamp.\n",
        "\n",
        "Authors: [Sean McLaughlin](http://github.com/mclaughlin6464), [Joe Derose](http://github.com/j-dr), Noah Kurinsky"
      ]
    },
    {
      "cell_type": "markdown",
      "metadata": {
        "id": "YUBqQWJIq3M3",
        "colab_type": "text"
      },
      "source": [
        "Model fitting is one of the most common and important things researchers have to do. There is not a one-size-fits-all solution to all model fitting problems, however. For example:\n",
        "* Perhaps we need to a fit a relatively simple model to a large dataset (or a large number of smaller datasets) and we want the fit to be efficient\n",
        "* Maybe we don't know what kind of model we need so we want to be able to easily compare a suite of models\n",
        "* Perhaps the model fit is our entire analyis, and we need to understand all uncertainties and correlations very well\n",
        "\n",
        "We will look at Python packages that handle different situations like these."
      ]
    },
    {
      "cell_type": "markdown",
      "metadata": {
        "id": "RUN_CAFJq3M4",
        "colab_type": "text"
      },
      "source": [
        "First though, we'll need some data to fit! We'll generate two datasets, a simple linear dataset and a slightly more complex nonlinear model. "
      ]
    },
    {
      "cell_type": "code",
      "metadata": {
        "id": "cKD3deSEq3M7",
        "colab_type": "code",
        "colab": {}
      },
      "source": [
        "import numpy as np\n",
        "%matplotlib inline\n",
        "from matplotlib import pyplot as plt"
      ],
      "execution_count": 0,
      "outputs": []
    },
    {
      "cell_type": "code",
      "metadata": {
        "id": "GDOOnLCNq3M-",
        "colab_type": "code",
        "colab": {}
      },
      "source": [
        "true_m, true_b = 0.68, 2.38\n",
        "N = 100\n",
        "x = np.linspace(0,50,N)\n",
        "\n",
        "def linear_func(x, m=true_m, b=true_b):\n",
        "    return m*x+b"
      ],
      "execution_count": 0,
      "outputs": []
    },
    {
      "cell_type": "code",
      "metadata": {
        "id": "laz6yGqiq3NA",
        "colab_type": "code",
        "outputId": "86883055-4930-4d49-dcb5-dd3a64be914c",
        "colab": {
          "base_uri": "https://localhost:8080/",
          "height": 269
        }
      },
      "source": [
        "true_linear_y = linear_func(x)\n",
        "plt.plot(x, true_linear_y)\n",
        "plt.show()"
      ],
      "execution_count": 3,
      "outputs": [
        {
          "output_type": "display_data",
          "data": {
            "image/png": "[encoded data removed]",
            "text/plain": [
              "<Figure size 432x288 with 1 Axes>"
            ]
          },
          "metadata": {
            "tags": [],
            "needs_background": "light"
          }
        }
      ]
    },
    {
      "cell_type": "code",
      "metadata": {
        "id": "5Iuq4f89q3ND",
        "colab_type": "code",
        "outputId": "8d1aed0c-9905-4717-db26-2a13d7aa252d",
        "colab": {
          "base_uri": "https://localhost:8080/",
          "height": 269
        }
      },
      "source": [
        "# add noise\n",
        "sigma = 1.8\n",
        "obs_linear_y = true_linear_y+ np.random.randn(N)*sigma\n",
        "plt.errorbar(x, obs_linear_y, yerr = np.ones(N)*sigma,marker='o', ls='None')\n",
        "plt.show()"
      ],
      "execution_count": 0,
      "outputs": [
        {
          "output_type": "display_data",
          "data": {
            "image/png": "[encoded data removed]",
            "text/plain": [
              "<Figure size 432x288 with 1 Axes>"
            ]
          },
          "metadata": {
            "tags": [],
            "needs_background": "light"
          }
        }
      ]
    },
    {
      "cell_type": "code",
      "metadata": {
        "id": "owjiVpV_q3NF",
        "colab_type": "code",
        "colab": {}
      },
      "source": [
        "true_p1, true_p2, true_p3, true_p4, true_p5 = -2.1, 0.8, -0.021, 4.3, 0.6\n",
        "true_nonlinear_params = np.array([true_p1, true_p2, true_p3, true_p4, true_p5])\n",
        "def nonlinear_func(x,p1=true_p1,p2=true_p2,p3=true_p3,p4=true_p4,p5=true_p5):\n",
        "    # define a complex nonlinear function to fit\n",
        "    return p1+p2*x+p3*x*x+p4*np.sin(x*p5)"
      ],
      "execution_count": 0,
      "outputs": []
    },
    {
      "cell_type": "code",
      "metadata": {
        "id": "kEXxCR8rq3NH",
        "colab_type": "code",
        "outputId": "b4fd676a-319d-4f38-e944-ab8203da409b",
        "colab": {
          "base_uri": "https://localhost:8080/",
          "height": 286
        }
      },
      "source": [
        "true_nonlinear_y = nonlinear_func(x)\n",
        "plt.plot(x, true_nonlinear_y, color = 'r')"
      ],
      "execution_count": 0,
      "outputs": [
        {
          "output_type": "execute_result",
          "data": {
            "text/plain": [
              "[<matplotlib.lines.Line2D at 0x7fe7b67131d0>]"
            ]
          },
          "metadata": {
            "tags": []
          },
          "execution_count": 21
        },
        {
          "output_type": "display_data",
          "data": {
            "image/png": "[encoded data removed]",
            "text/plain": [
              "<Figure size 432x288 with 1 Axes>"
            ]
          },
          "metadata": {
            "tags": [],
            "needs_background": "light"
          }
        }
      ]
    },
    {
      "cell_type": "code",
      "metadata": {
        "id": "nhPYtLy9q3NK",
        "colab_type": "code",
        "outputId": "7b4f86f3-92d4-4bcf-e2a3-490b32ffb791",
        "colab": {
          "base_uri": "https://localhost:8080/",
          "height": 269
        }
      },
      "source": [
        "# add noise\n",
        "obs_nonlinear_y = true_nonlinear_y+ np.random.randn(N)*sigma\n",
        "plt.errorbar(x, obs_nonlinear_y, yerr = np.ones(N)*sigma,marker='o', ls='None', color = 'r')\n",
        "plt.show()"
      ],
      "execution_count": 0,
      "outputs": [
        {
          "output_type": "display_data",
          "data": {
            "image/png": "[encoded data removed]",
            "text/plain": [
              "<Figure size 432x288 with 1 Axes>"
            ]
          },
          "metadata": {
            "tags": [],
            "needs_background": "light"
          }
        }
      ]
    },
    {
      "cell_type": "markdown",
      "metadata": {
        "id": "6DDDGoPvq3NM",
        "colab_type": "text"
      },
      "source": [
        "## Scipy\n",
        "----\n",
        "NumPy contains much of the functionality required to perform efficient operations in python, but you will soon realize that there is not a great deal of high level functionality implemented in numpy. \n",
        "\n",
        "[Scipy](http://docs.scipy.org/doc/scipy/reference/) is the module where you *will* find a great deal of high level functionality that is very useful for day to day scientific computing. \n",
        "\n",
        "Some of the very useful submodules that can be found in SciPy are:\n",
        "\n",
        "* [Linear Algebra](http://docs.scipy.org/doc/scipy/reference/tutorial/linalg.html)\n",
        "* [Statistics](http://docs.scipy.org/doc/scipy/reference/tutorial/stats.html)\n",
        "* [Integration](http://docs.scipy.org/doc/scipy/reference/tutorial/integrate.html)\n",
        "* [Interpolation](http://docs.scipy.org/doc/scipy/reference/tutorial/interpolate.html)\n",
        "* [FFT](http://docs.scipy.org/doc/scipy/reference/tutorial/fftpack.html)\n",
        "* [Optimization](http://docs.scipy.org/doc/scipy/reference/tutorial/optimize.html)\n",
        "\n",
        "Today we be delving into some of the details of Linear Algebra and Optimization, but keep in mind that you will find similar depth in these other applications"
      ]
    },
    {
      "cell_type": "markdown",
      "metadata": {
        "id": "i4adItBnq3NM",
        "colab_type": "text"
      },
      "source": [
        "We'll start with a simple linear system. Scipy has a great many useful linear algebra functions, including inverses, determinants, and eigenvalues! We can showcase some of these with a dummy matrix. "
      ]
    },
    {
      "cell_type": "code",
      "metadata": {
        "id": "TDmBfoy0q3NN",
        "colab_type": "code",
        "outputId": "0a9ecf8d-a061-48a5-d37d-dd4424e47092",
        "colab": {
          "base_uri": "https://localhost:8080/",
          "height": 85
        }
      },
      "source": [
        "A = np.eye(4)\n",
        "A[1,2] = 3 # just to keep it interesting\n",
        "print(A)"
      ],
      "execution_count": 0,
      "outputs": [
        {
          "output_type": "stream",
          "text": [
            "[[1. 0. 0. 0.]\n",
            " [0. 1. 3. 0.]\n",
            " [0. 0. 1. 0.]\n",
            " [0. 0. 0. 1.]]\n"
          ],
          "name": "stdout"
        }
      ]
    },
    {
      "cell_type": "code",
      "metadata": {
        "id": "bQNYBRD-q3NP",
        "colab_type": "code",
        "colab": {}
      },
      "source": [
        "from scipy.linalg import inv, det, eigvals"
      ],
      "execution_count": 0,
      "outputs": []
    },
    {
      "cell_type": "code",
      "metadata": {
        "id": "b2OvIHTkq3NR",
        "colab_type": "code",
        "outputId": "8bda5616-bcd1-42a3-a472-6816779e9672",
        "colab": {
          "base_uri": "https://localhost:8080/",
          "height": 85
        }
      },
      "source": [
        "print(inv(A), det(A), eigvals(A))"
      ],
      "execution_count": 0,
      "outputs": [
        {
          "output_type": "stream",
          "text": [
            "(array([[ 1., -0.,  0., -0.],\n",
            "       [ 0.,  1., -3., -0.],\n",
            "       [ 0.,  0.,  1., -0.],\n",
            "       [ 0.,  0.,  0.,  1.]]), 1.0, array([1.+0.j, 1.+0.j, 1.+0.j, 1.+0.j]))\n"
          ],
          "name": "stdout"
        }
      ]
    },
    {
      "cell_type": "markdown",
      "metadata": {
        "id": "NML8qeoNq3NU",
        "colab_type": "text"
      },
      "source": [
        "We will focus on the linear least squares solver in scipy. Recall that linear least squares finds the solution $\\hat{x}$ to the system\n",
        "\n",
        "$$ \\mathbf{A}x = \\mathbf{b} $$ \n",
        "\n",
        "that minimizes the squared absolute error. \n",
        "\n",
        "$$ \\left\\lVert \\mathbf{A}x - b \\right \\rVert^2 $$"
      ]
    },
    {
      "cell_type": "markdown",
      "metadata": {
        "id": "T7y_Y3tQq3NU",
        "colab_type": "text"
      },
      "source": [
        "In the special case that your data satisfies the [Gauss-Markov Theroem](https://en.wikipedia.org/wiki/Gauss%E2%80%93Markov_theorem) (which ours do) the linear least squares solution will give the optimal unbiased estimator $\\hat{x}$. Let's try it out on our linear model. "
      ]
    },
    {
      "cell_type": "code",
      "metadata": {
        "id": "NTfoRPOoq3NV",
        "colab_type": "code",
        "outputId": "a6f9031b-235d-4ddc-9b81-97f0bc2bd19d",
        "colab": {
          "base_uri": "https://localhost:8080/",
          "height": 68
        }
      },
      "source": [
        "from scipy.stats import linregress\n",
        "from scipy.linalg import lstsq\n",
        "\n",
        "fit_m, fit_b, r,p, std_err = linregress(x, obs_linear_y)\n",
        "print('R^2 = ',r**2)\n",
        "print('Fit:', fit_m, fit_b)\n",
        "print('Truth:', true_m, true_b)"
      ],
      "execution_count": 0,
      "outputs": [
        {
          "output_type": "stream",
          "text": [
            "('R^2 = ', 0.9649870371185701)\n",
            "('Fit:', 0.6750852538341671, 2.4609769207652796)\n",
            "('Truth:', 0.68, 2.38)\n"
          ],
          "name": "stdout"
        }
      ]
    },
    {
      "cell_type": "markdown",
      "metadata": {
        "id": "DPhlnFXWq3NX",
        "colab_type": "text"
      },
      "source": [
        "The standard error is not an estimate of the error on the data points; it is used for estimating uncertanties in parameter estimates. To estimate sigma one can use this formula ( I found on Wikipedia)! "
      ]
    },
    {
      "cell_type": "code",
      "metadata": {
        "id": "bInUltEGq3NX",
        "colab_type": "code",
        "outputId": "e4eb6521-8dba-4f2f-dc5f-0afda28fe6f1",
        "colab": {
          "base_uri": "https://localhost:8080/",
          "height": 34
        }
      },
      "source": [
        "print(np.sqrt(np.sum((obs_linear_y - linear_func(x, fit_m, fit_b))**2)/(N)))"
      ],
      "execution_count": 0,
      "outputs": [
        {
          "output_type": "stream",
          "text": [
            "1.874712972093328\n"
          ],
          "name": "stdout"
        }
      ]
    },
    {
      "cell_type": "code",
      "metadata": {
        "id": "TDwh8pTMq3NZ",
        "colab_type": "code",
        "outputId": "6374fe64-b646-49df-a3f0-6de663a969c5",
        "colab": {
          "base_uri": "https://localhost:8080/",
          "height": 269
        }
      },
      "source": [
        "plt.errorbar(x, obs_linear_y, yerr = np.ones(N)*sigma,marker='o', ls='None')\n",
        "plt.plot(x, fit_m*x+fit_b, color = 'g', lw = 3)\n",
        "plt.show()"
      ],
      "execution_count": 0,
      "outputs": [
        {
          "output_type": "display_data",
          "data": {
            "image/png": "[encoded data removed]",
            "text/plain": [
              "<Figure size 432x288 with 1 Axes>"
            ]
          },
          "metadata": {
            "tags": [],
            "needs_background": "light"
          }
        }
      ]
    },
    {
      "cell_type": "markdown",
      "metadata": {
        "id": "-Ly_Aauaq3Nb",
        "colab_type": "text"
      },
      "source": [
        "I actually used `scipy.stats`'s `linregress` module here instead of `lstsq`. That will give us the same answer, but with a few extra steps.  "
      ]
    },
    {
      "cell_type": "code",
      "metadata": {
        "id": "0eb5U8_1q3Nb",
        "colab_type": "code",
        "outputId": "34e5ef17-ad6d-4c14-c212-a150778be668",
        "colab": {
          "base_uri": "https://localhost:8080/",
          "height": 34
        }
      },
      "source": [
        "A = np.ones((N,2))\n",
        "A[:,1] = x #build a design matrix\n",
        "\n",
        "(fit_b2, fit_m2), _,_,_ = lstsq(A, obs_linear_y)\n",
        "print(fit_m2, fit_b2)"
      ],
      "execution_count": 0,
      "outputs": [
        {
          "output_type": "stream",
          "text": [
            "(0.6750852538341671, 2.460976920765284)\n"
          ],
          "name": "stdout"
        }
      ]
    },
    {
      "cell_type": "markdown",
      "metadata": {
        "id": "yA8iXyDHq3Nf",
        "colab_type": "text"
      },
      "source": [
        "Why the extra steps? Well, that's because **linear least squares is not just for fitting lines**! Any linear model can be fit with linear least squares. Let's try that for our next excercise! "
      ]
    },
    {
      "cell_type": "markdown",
      "metadata": {
        "id": "P0srSaIAq3Nf",
        "colab_type": "text"
      },
      "source": [
        "### Exercise 1\n",
        "Use linear least squares to fit to our nonlinear model. You'll have to assume that we know `true_p5` perfectly; all other parameters are linear. You'll have to start by making a design matrix, which will be similar to the matrix A above.  "
      ]
    },
    {
      "cell_type": "code",
      "metadata": {
        "id": "Or4cilBOq3Ng",
        "colab_type": "code",
        "colab": {}
      },
      "source": [
        ""
      ],
      "execution_count": 0,
      "outputs": []
    },
    {
      "cell_type": "markdown",
      "metadata": {
        "id": "xjMBPHokq3Ni",
        "colab_type": "text"
      },
      "source": [
        "---"
      ]
    },
    {
      "cell_type": "markdown",
      "metadata": {
        "id": "RAqq1R-Hq3Ni",
        "colab_type": "text"
      },
      "source": [
        "Linear least squares works well for linear problems (which is not just lines!) But of course this is not all problems. Indeed, even for Excercise 1, we had to assume we knew a nonlinear parameter. How would we go about fitting for parameters like these? \n",
        "\n",
        "This is in general a much harder than linear optimization. If you have a consistent solution that works in all cases let me know and maybe we can share a Fields medal!\n",
        "\n",
        "We will focus on two techniques that are commonly used in scipy: `curve_fit` (which uses [nonlinear least squares](http://mathworld.wolfram.com/NonlinearLeastSquaresFitting.html) )and `minimize` (which uses a variety of gradient descent-esque methods). "
      ]
    },
    {
      "cell_type": "code",
      "metadata": {
        "id": "NFWe3Joiq3Ni",
        "colab_type": "code",
        "colab": {}
      },
      "source": [
        "from scipy.optimize import curve_fit, minimize"
      ],
      "execution_count": 0,
      "outputs": []
    },
    {
      "cell_type": "markdown",
      "metadata": {
        "id": "6v-OCfPHq3Nk",
        "colab_type": "text"
      },
      "source": [
        "We'll start with [curve_fit](https://docs.scipy.org/doc/scipy/reference/generated/scipy.optimize.curve_fit.html), which has an easy to use interface. To use curve fit, we'll have to a define a function (which we've already done) and give an initial guess. "
      ]
    },
    {
      "cell_type": "code",
      "metadata": {
        "id": "noeP9edBq3Nl",
        "colab_type": "code",
        "outputId": "981cc313-5d7d-4377-d190-e8d6d2a6f51a",
        "colab": {
          "base_uri": "https://localhost:8080/",
          "height": 51
        }
      },
      "source": [
        "initial_guess = np.array([-1, 1, 0, 3, 0.4])\n",
        "popt, pcov = curve_fit(nonlinear_func, x, obs_nonlinear_y, p0=initial_guess)\n",
        "print(popt)\n",
        "print(true_nonlinear_params)"
      ],
      "execution_count": 0,
      "outputs": [
        {
          "output_type": "stream",
          "text": [
            "[ 0.03971139  0.6852935  -0.01968813 -0.30427894  0.24764961]\n",
            "[-2.1    0.8   -0.021  4.3    0.6  ]\n"
          ],
          "name": "stdout"
        }
      ]
    },
    {
      "cell_type": "code",
      "metadata": {
        "id": "q5BSHnBUq3Nn",
        "colab_type": "code",
        "outputId": "d80d23e8-d1f7-414a-9c4a-d9fcf7cf283f",
        "colab": {
          "base_uri": "https://localhost:8080/",
          "height": 269
        }
      },
      "source": [
        "plt.errorbar(x, obs_nonlinear_y, yerr = np.ones(N)*sigma,marker='o',color='r', ls='None')\n",
        "plt.plot(x, nonlinear_func(x, *popt), color = 'g', lw = 3)\n",
        "plt.show()"
      ],
      "execution_count": 0,
      "outputs": [
        {
          "output_type": "display_data",
          "data": {
            "image/png": "[encoded data removed]",
            "text/plain": [
              "<Figure size 432x288 with 1 Axes>"
            ]
          },
          "metadata": {
            "tags": [],
            "needs_background": "light"
          }
        }
      ]
    },
    {
      "cell_type": "markdown",
      "metadata": {
        "id": "u5Tuv0VXq3No",
        "colab_type": "text"
      },
      "source": [
        "Hm, this did ok, but not great. This is hard! In general you may want to try several guesses if you're unsatisfied. In this case, since we know the truth, we can make an unreasonably good guess. We can also add some uncertainty information that we have. "
      ]
    },
    {
      "cell_type": "code",
      "metadata": {
        "id": "bTKGALFcq3Np",
        "colab_type": "code",
        "outputId": "3ac0ef97-2aa6-42b3-cd46-849b5ed48404",
        "colab": {
          "base_uri": "https://localhost:8080/",
          "height": 51
        }
      },
      "source": [
        "initial_guess = np.array([-2, 1, 0, 4, 0.55])\n",
        "popt, pcov = curve_fit(nonlinear_func, x, obs_nonlinear_y, p0=initial_guess, sigma=np.ones(N)*sigma)\n",
        "print(popt)\n",
        "print(true_nonlinear_params)"
      ],
      "execution_count": 0,
      "outputs": [
        {
          "output_type": "stream",
          "text": [
            "[-1.02950054  0.74785062 -0.02038893  4.09177722  0.60015125]\n",
            "[-2.1    0.8   -0.021  4.3    0.6  ]\n"
          ],
          "name": "stdout"
        }
      ]
    },
    {
      "cell_type": "code",
      "metadata": {
        "id": "i7RieTw9q3Nr",
        "colab_type": "code",
        "outputId": "cefda4e3-4727-41a5-eacf-e3bd48b3e307",
        "colab": {
          "base_uri": "https://localhost:8080/",
          "height": 269
        }
      },
      "source": [
        "plt.errorbar(x, obs_nonlinear_y, yerr = np.ones(N)*sigma,marker='o',color='r', ls='None')\n",
        "plt.plot(x, nonlinear_func(x, *popt), color = 'g', lw = 3)\n",
        "plt.show()"
      ],
      "execution_count": 0,
      "outputs": [
        {
          "output_type": "display_data",
          "data": {
            "image/png": "[encoded data removed]",
            "text/plain": [
              "<Figure size 432x288 with 1 Axes>"
            ]
          },
          "metadata": {
            "tags": [],
            "needs_background": "light"
          }
        }
      ]
    },
    {
      "cell_type": "markdown",
      "metadata": {
        "id": "dARW7URQq3Nt",
        "colab_type": "text"
      },
      "source": [
        "We also got a covariance matrix from the estimator. Let's use it now to calculates some uncertanties on our params."
      ]
    },
    {
      "cell_type": "code",
      "metadata": {
        "id": "JuOz-d57q3Nu",
        "colab_type": "code",
        "outputId": "9aa7e833-55d0-440c-cd77-b76059b05991",
        "colab": {
          "base_uri": "https://localhost:8080/",
          "height": 102
        }
      },
      "source": [
        "errors = np.sqrt(np.diag(pcov))\n",
        "for i,(p, e) in enumerate(zip(popt, errors)):\n",
        "    print('Param {} = {} +/-{}'.format(i+1,p,e))"
      ],
      "execution_count": 0,
      "outputs": [
        {
          "output_type": "stream",
          "text": [
            "Param 1 = -1.02950054426 +/-0.544662654069\n",
            "Param 2 = 0.747850616793 +/-0.0504542971246\n",
            "Param 3 = -0.0203889333252 +/-0.000980301126233\n",
            "Param 4 = 4.09177722058 +/-0.26095371473\n",
            "Param 5 = 0.600151254523 +/-0.00228395589735\n"
          ],
          "name": "stdout"
        }
      ]
    },
    {
      "cell_type": "markdown",
      "metadata": {
        "id": "Jk4h8H6nq3Nw",
        "colab_type": "text"
      },
      "source": [
        "Let's move onto [minimize](https://docs.scipy.org/doc/scipy/reference/generated/scipy.optimize.minimize.html#scipy.optimize.minimize). Minimize has a bit of a different use case; it seeks to minimize a function, rather than find a best fit. However, if we phrase our problem as a minimization, we can use it! Minimize supports several different optimization algorithms, depending on the nature of the problem. If you have access to bounds, constraints, or jacobian/hessians, you should use a function that exploits them. For now, we'll focus on the more basic ones. \n",
        "\n",
        "We'll begin by designing a **loss function**, which represents the loss that we want to minimize. We'll return to these again when we discuss MCMC. "
      ]
    },
    {
      "cell_type": "code",
      "metadata": {
        "id": "hRucMR26q3Nw",
        "colab_type": "code",
        "colab": {}
      },
      "source": [
        "def loss_function(params, func, y_data, x_data):\n",
        "    # just stick with a simple least squares\n",
        "    return np.sum((y_data - func(x_data, *params))**2)"
      ],
      "execution_count": 0,
      "outputs": []
    },
    {
      "cell_type": "code",
      "metadata": {
        "id": "2-VV4CaTq3Nz",
        "colab_type": "code",
        "colab": {}
      },
      "source": [
        "initial_guess = np.array([-1, 1, 0, 3, 0.4])\n",
        "res = minimize(loss_function, initial_guess, args = (nonlinear_func, obs_nonlinear_y, x))"
      ],
      "execution_count": 0,
      "outputs": []
    },
    {
      "cell_type": "markdown",
      "metadata": {
        "id": "_UM-0RyNq3N1",
        "colab_type": "text"
      },
      "source": [
        "Minimze returns an object with results. We'll check if it thinks it was successful and see what the best guess was."
      ]
    },
    {
      "cell_type": "code",
      "metadata": {
        "id": "py5u1f-Hq3N1",
        "colab_type": "code",
        "outputId": "b2840869-7aea-4476-ec04-2124dc29f8ca",
        "colab": {
          "base_uri": "https://localhost:8080/",
          "height": 68
        }
      },
      "source": [
        "print(res.success)\n",
        "print(res.x)\n",
        "print(true_nonlinear_params)"
      ],
      "execution_count": 0,
      "outputs": [
        {
          "output_type": "stream",
          "text": [
            "False\n",
            "[-1.02960714  0.74786361 -0.02038919  4.09178064  0.60015115]\n",
            "[-2.1    0.8   -0.021  4.3    0.6  ]\n"
          ],
          "name": "stdout"
        }
      ]
    },
    {
      "cell_type": "code",
      "metadata": {
        "id": "_ESHZWGzq3N3",
        "colab_type": "code",
        "outputId": "ef515e52-d0c2-4e2d-ca5a-84504a47dac0",
        "colab": {
          "base_uri": "https://localhost:8080/",
          "height": 269
        }
      },
      "source": [
        "plt.errorbar(x, obs_nonlinear_y, yerr = np.ones(N)*sigma,marker='o',color='r', ls='None')\n",
        "plt.plot(x, nonlinear_func(x, *res.x), color = 'g', lw = 3)\n",
        "plt.show()"
      ],
      "execution_count": 0,
      "outputs": [
        {
          "output_type": "display_data",
          "data": {
            "image/png": "[encoded data removed]",
            "text/plain": [
              "<Figure size 432x288 with 1 Axes>"
            ]
          },
          "metadata": {
            "tags": [],
            "needs_background": "light"
          }
        }
      ]
    },
    {
      "cell_type": "markdown",
      "metadata": {
        "id": "dEosbwJtq3N5",
        "colab_type": "text"
      },
      "source": [
        "Damn. No luck. \n",
        "\n",
        "There's a lot of ways we could proceed here. Why don't we try it as an excercise? "
      ]
    },
    {
      "cell_type": "markdown",
      "metadata": {
        "id": "DpRBJOVjq3N5",
        "colab_type": "text"
      },
      "source": [
        "### Exercise 2\n",
        "Find a good fit to the nonlinear data using minimize. You may want to try using a different method, or perhaps doing something fancy with your loss function (for example, regularizing). "
      ]
    },
    {
      "cell_type": "code",
      "metadata": {
        "id": "SGx6hVu0q3N5",
        "colab_type": "code",
        "colab": {}
      },
      "source": [
        ""
      ],
      "execution_count": 0,
      "outputs": []
    }
  ]
}